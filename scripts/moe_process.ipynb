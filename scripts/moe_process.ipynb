{
 "cells": [
  {
   "cell_type": "code",
   "execution_count": 203,
   "id": "895a7142-e456-42a3-a572-153665440b2d",
   "metadata": {},
   "outputs": [
    {
     "name": "stdout",
     "output_type": "stream",
     "text": [
      "expert_capacity: 1024\n",
      "token_inputs: (2, 1024, 128)\n"
     ]
    }
   ],
   "source": [
    "base_emb_dim = 128\n",
    "batch_size = 2\n",
    "length = 1024\n",
    "inputs = jax.random.uniform(jax.random.PRNGKey(9876), [batch_size, length, base_emb_dim])\n",
    "\n",
    "topn = 2\n",
    "num_groups = inputs.shape[0]\n",
    "token_shape = inputs.shape[:-1]\n",
    "num_tokens = np.prod(token_shape)\n",
    "m_dim = inputs.shape[-1]\n",
    "\n",
    "tokens_per_group = num_tokens // num_groups\n",
    "expert_capacity_factor = 1000\n",
    "min_group_size = 1\n",
    "num_experts = 8\n",
    "expert_capacity = int(expert_capacity_factor * tokens_per_group / num_experts)\n",
    "\n",
    "max_group_size = int(inputs.shape[1])\n",
    "expert_capacity = min(expert_capacity, max_group_size)\n",
    "expert_capacity = max(expert_capacity, min_group_size)\n",
    "print(f'expert_capacity: {expert_capacity}')\n",
    "\n",
    "# gsm\n",
    "grouped_inputs = jnp.reshape(inputs, (num_groups, tokens_per_group, base_emb_dim))\n",
    "# grouped_inputs = _split(grouped_inputs, (('replica', 'data'), None, 'mdl'))\n",
    "token_inputs = jax.lax.convert_element_type(grouped_inputs, jnp.float32)\n",
    "print(f'token_inputs: {token_inputs.shape}')"
   ]
  },
  {
   "cell_type": "code",
   "execution_count": 204,
   "id": "994569e7-55d5-43b9-8908-51a217d2d723",
   "metadata": {},
   "outputs": [
    {
     "name": "stdout",
     "output_type": "stream",
     "text": [
      "token_inputs: (2, 1024, 128)\n"
     ]
    }
   ],
   "source": [
    "# params\n",
    "_call_experts = jax.random.uniform(jax.random.PRNGKey(9876), [1, base_emb_dim, base_emb_dim])\n",
    "call_experts = _call_experts.repeat(num_experts, 0)\n",
    "router_gate = jax.random.uniform(jax.random.PRNGKey(9876), [base_emb_dim, num_experts])\n",
    "\n",
    "# gsm\n",
    "grouped_inputs = jnp.reshape(inputs, (num_groups, tokens_per_group, base_emb_dim))\n",
    "token_inputs = jax.lax.convert_element_type(grouped_inputs, jnp.float32)\n",
    "print(f'token_inputs: {token_inputs.shape}')\n",
    "dtype = jnp.bfloat16\n",
    "router_logits = jnp.einsum('bld,de->ble', token_inputs, router_gate)\n",
    "# gse\n",
    "router_probs = jax.nn.softmax(router_logits.astype(jnp.float32), axis=-1)\n",
    "router_probs = router_probs.astype(dtype) # ble\n"
   ]
  },
  {
   "cell_type": "code",
   "execution_count": 205,
   "id": "4155d787-df39-47ab-9da6-b2b3b297b172",
   "metadata": {},
   "outputs": [
    {
     "name": "stdout",
     "output_type": "stream",
     "text": [
      "(2, 1024, 2, 8)\n",
      "(2, 1024, 8)\n"
     ]
    }
   ],
   "source": [
    "Array = jnp.ndarray\n",
    "\n",
    "\n",
    "def _take_along_axis(array: Array, indices: Array, axis: int) -> Array:\n",
    "    if array.ndim != indices.ndim:\n",
    "        raise ValueError(\n",
    "            'indices and array must have the same number of dimensions; '\n",
    "            f'{indices.ndim} vs. {array.ndim}.')\n",
    "\n",
    "    if (axis != -1 and axis != array.ndim - 1 and  # Not last dimension\n",
    "        axis != 1 and axis != -array.ndim + 1):  # Not second dimension\n",
    "        raise ValueError(\n",
    "            'Only slices along the second or last dimension are supported; '\n",
    "            f'array.ndim = {array.ndim}, while axis = {axis}.')\n",
    "\n",
    "    if 1 or _favor_one_hot_slices():\n",
    "        one_hot_length = array.shape[axis]\n",
    "        one_hot_indices = jax.nn.one_hot(indices, one_hot_length, axis=axis)\n",
    "        print(one_hot_indices.shape)\n",
    "\n",
    "        if axis == -1 or array.ndim == 1:\n",
    "            result = jnp.einsum(\n",
    "                '...s,...is->...i',\n",
    "                array,\n",
    "                one_hot_indices,\n",
    "                precision=jax.lax.Precision.HIGHEST)\n",
    "        else:\n",
    "            result = jnp.einsum(\n",
    "                'ns...,nis...->ni...',\n",
    "                array,\n",
    "                one_hot_indices,\n",
    "                precision=jax.lax.Precision.HIGHEST)\n",
    "        return jax.lax.convert_element_type(result, array.dtype), one_hot_indices.max(2)\n",
    "    else:\n",
    "        return jnp.take_along_axis(array, indices, axis=axis), None\n",
    "\n",
    "\n",
    "def _top_k(array, k: int):\n",
    "    if 1 or _favor_one_hot_slices():\n",
    "        top_k_indices = jax.lax.top_k(array, k)[-1]\n",
    "        top_k_values, one_hot_indices = _take_along_axis(array, top_k_indices, axis=-1)\n",
    "        print(one_hot_indices.shape)\n",
    "        return top_k_values, top_k_indices, one_hot_indices\n",
    "    else:\n",
    "        return jax.lax.top_k(array, k), None\n",
    "\n",
    "\n",
    "expert_gate, expert_index, one_hot_indices = _top_k(router_probs, k=topn)\n",
    "router_probs *= one_hot_indices\n",
    "router_probs /= router_probs.sum(-1, keepdims=True)\n",
    "\n",
    "# g * 2 * s\n",
    "expert_index = jnp.swapaxes(expert_index, 1, 2)\n",
    "expert_index = expert_index.reshape(num_groups, -1)\n",
    "# g * 2s\n",
    "# g * 2s * e, expert_index 负值的地方忽略了?\n",
    "expert_mask = jax.nn.one_hot(expert_index, num_experts, dtype=jnp.int32)\n",
    "# g * 2s * e \n",
    "token_priority = jnp.cumsum(expert_mask, axis=1) * expert_mask - 1.0\n",
    "# g * 2 * s * e\n",
    "token_priority = token_priority.reshape(num_groups, topn, -1, num_experts)\n",
    "token_priority = jnp.swapaxes(token_priority, 1, 2)\n",
    "# g * s * 2 * e   ls: 每个token选择了2个专家，专家对应的位置的值表示当前编号专家选择的token数量\n",
    "token_priority = jnp.max(token_priority, axis=2) \n",
    "\n",
    "compute_n_expert = num_experts\n",
    "combined_outputs = None\n",
    "_token_priority = token_priority\n",
    "_router_probs = router_probs\n",
    "# lsp： g * s * e * c  # 如果当前token选择了当前专家后，当前token被选中的总次数的one hot体现\n",
    "_dispatch_mask = jax.nn.one_hot(_token_priority, int(expert_capacity), dtype=jnp.bool_)\n",
    "# 把token选择专家的概率赋值到one_hot矩阵上\n",
    "_combine_array = jnp.einsum('...se,...sec->...sec', _router_probs, _dispatch_mask)\n",
    "_combine_array = jax.lax.convert_element_type(_combine_array, dtype)\n",
    "# 专家的输入mask：gsm x gsec -> gecm\n",
    "_expert_inputs = jnp.einsum('gs...,gsec->gec...', token_inputs, _dispatch_mask)\n",
    "_expert_inputs = jax.lax.convert_element_type(_expert_inputs, dtype)\n",
    "# gecm\n",
    "# print(f'_expert_inputs: {_expert_inputs.shape}')\n",
    "# # g * e * c * m\n",
    "_expert_outputs = jnp.einsum('gecd,edm->gecm', _expert_inputs, call_experts)\n",
    "# _expert_outputs = _call_experts(_expert_inputs, index, compute_n_expert, deterministic=deterministic)\n",
    "_combined_outputs = jnp.einsum('gec...,gsec->gs...', _expert_outputs, _combine_array)\n",
    "\n",
    "combined_outputs = _combined_outputs if combined_outputs is None else combined_outputs + _combined_outputs\n"
   ]
  },
  {
   "cell_type": "code",
   "execution_count": 206,
   "id": "e07aaea4-91ce-4b17-8f08-cab37357370d",
   "metadata": {},
   "outputs": [],
   "source": [
    "r = jnp.einsum('gcd,dm->gcm', token_inputs, _call_experts.squeeze())"
   ]
  },
  {
   "cell_type": "code",
   "execution_count": 208,
   "id": "fc2c47e6-d1a2-481e-ba4b-2d7ff1f537eb",
   "metadata": {
    "scrolled": true
   },
   "outputs": [
    {
     "data": {
      "text/plain": [
       "Array([[[28.560665, 27.185635, 28.68104 , ..., 27.223991, 25.60635 ,\n",
       "         30.83944 ],\n",
       "        [30.88588 , 27.094418, 31.459332, ..., 29.879463, 27.927849,\n",
       "         35.077682],\n",
       "        [33.235268, 29.354126, 33.437965, ..., 31.392794, 28.466248,\n",
       "         35.0506  ],\n",
       "        ...,\n",
       "        [33.00421 , 29.302488, 34.69037 , ..., 32.604965, 31.23965 ,\n",
       "         36.159454],\n",
       "        [31.797195, 29.900791, 32.5949  , ..., 31.50444 , 28.399307,\n",
       "         33.13117 ],\n",
       "        [32.66905 , 28.830624, 31.608982, ..., 30.723911, 29.060616,\n",
       "         33.163406]],\n",
       "\n",
       "       [[34.011265, 32.703957, 34.21184 , ..., 33.507072, 31.974867,\n",
       "         37.61277 ],\n",
       "        [28.907455, 29.038662, 32.866028, ..., 29.621647, 26.987638,\n",
       "         34.60702 ],\n",
       "        [29.792133, 27.072746, 30.789768, ..., 29.37832 , 27.429031,\n",
       "         31.339783],\n",
       "        ...,\n",
       "        [31.87959 , 29.07582 , 30.04136 , ..., 29.387972, 28.34523 ,\n",
       "         34.3482  ],\n",
       "        [27.179043, 27.306644, 29.580395, ..., 27.039307, 25.54274 ,\n",
       "         32.512337],\n",
       "        [31.2415  , 28.591782, 30.578234, ..., 29.262463, 26.651016,\n",
       "         35.304867]]], dtype=float32)"
      ]
     },
     "execution_count": 208,
     "metadata": {},
     "output_type": "execute_result"
    }
   ],
   "source": [
    "r"
   ]
  },
  {
   "cell_type": "code",
   "execution_count": 207,
   "id": "59a570a8-4924-40a8-acbc-f8a690a1a2a4",
   "metadata": {},
   "outputs": [
    {
     "data": {
      "text/plain": [
       "Array([[[28.5     , 27.125   , 28.625   , ..., 27.25    , 25.625   ,\n",
       "         30.875   ],\n",
       "        [30.875   , 27.125   , 31.5     , ..., 29.875   , 27.875   ,\n",
       "         35.      ],\n",
       "        [33.18506 , 29.317627, 33.43457 , ..., 31.31372 , 28.444336,\n",
       "         34.93164 ],\n",
       "        ...,\n",
       "        [33.      , 29.25    , 34.75    , ..., 32.5     , 31.25    ,\n",
       "         36.25    ],\n",
       "        [31.718994, 29.845825, 32.46826 , ..., 31.469238, 28.34729 ,\n",
       "         33.21753 ],\n",
       "        [32.813965, 28.931396, 31.686768, ..., 30.810059, 29.05664 ,\n",
       "         33.31494 ]],\n",
       "\n",
       "       [[34.      , 32.75    , 34.25    , ..., 33.5     , 32.      ,\n",
       "         37.5     ],\n",
       "        [28.931396, 29.05664 , 32.813965, ..., 29.682861, 27.052734,\n",
       "         34.567383],\n",
       "        [29.808105, 27.177979, 30.810059, ..., 29.432373, 27.428467,\n",
       "         31.43628 ],\n",
       "        ...,\n",
       "        [31.812744, 29.068115, 29.941406, ..., 29.317627, 28.31958 ,\n",
       "         34.183105],\n",
       "        [27.125   , 27.25    , 29.625   , ..., 27.      , 25.5     ,\n",
       "         32.5     ],\n",
       "        [31.25    , 28.625   , 30.625   , ..., 29.25    , 26.625   ,\n",
       "         35.25    ]]], dtype=float32)"
      ]
     },
     "execution_count": 207,
     "metadata": {},
     "output_type": "execute_result"
    }
   ],
   "source": [
    "combined_outputs"
   ]
  },
  {
   "cell_type": "code",
   "execution_count": 174,
   "id": "79c7768c-42bb-438c-a1eb-3f9e03e8dc2b",
   "metadata": {},
   "outputs": [],
   "source": []
  },
  {
   "cell_type": "code",
   "execution_count": 175,
   "id": "f8fe6168-9dc1-41b0-87fc-bf57c4e78478",
   "metadata": {},
   "outputs": [],
   "source": []
  },
  {
   "cell_type": "code",
   "execution_count": 176,
   "id": "49b59bd5-2e3c-46a3-bcd4-9b5c02f46458",
   "metadata": {},
   "outputs": [],
   "source": []
  },
  {
   "cell_type": "code",
   "execution_count": 177,
   "id": "18bc373e-1669-494f-a1c3-21d48af71fee",
   "metadata": {},
   "outputs": [],
   "source": []
  },
  {
   "cell_type": "code",
   "execution_count": 186,
   "id": "bc273160-7861-4158-85f3-93ba4b4fbf7c",
   "metadata": {},
   "outputs": [],
   "source": []
  },
  {
   "cell_type": "code",
   "execution_count": 188,
   "id": "1a90c283-4a47-42da-9154-dbdb609bda96",
   "metadata": {},
   "outputs": [],
   "source": []
  },
  {
   "cell_type": "code",
   "execution_count": 194,
   "id": "5efc6761-1beb-4317-b3f1-17d7fbac53d1",
   "metadata": {},
   "outputs": [],
   "source": []
  },
  {
   "cell_type": "code",
   "execution_count": 196,
   "id": "d884ad3e-79ca-4b6a-ae5e-6d58696bd704",
   "metadata": {},
   "outputs": [],
   "source": []
  },
  {
   "cell_type": "code",
   "execution_count": 195,
   "id": "5e26e5ee-838a-4da4-a480-602be50f8bf8",
   "metadata": {},
   "outputs": [
    {
     "data": {
      "text/plain": [
       "Array([[[0.35282516, 0.63547516],\n",
       "        [0.0423975 , 0.08089638],\n",
       "        [0.44726562, 0.86328125],\n",
       "        [0.5703125 , 1.125     ]]], dtype=float32)"
      ]
     },
     "execution_count": 195,
     "metadata": {},
     "output_type": "execute_result"
    }
   ],
   "source": [
    "combined_outputs"
   ]
  },
  {
   "cell_type": "code",
   "execution_count": 197,
   "id": "a1afca68-f2f0-4c41-bf0e-8b6d01927951",
   "metadata": {},
   "outputs": [
    {
     "data": {
      "text/plain": [
       "Array([[[0.35335103, 0.6379664 ],\n",
       "        [0.04244471, 0.08118868],\n",
       "        [0.4475174 , 0.86351776],\n",
       "        [0.5697632 , 1.1248779 ]]], dtype=float32)"
      ]
     },
     "execution_count": 197,
     "metadata": {},
     "output_type": "execute_result"
    }
   ],
   "source": [
    "r"
   ]
  },
  {
   "cell_type": "code",
   "execution_count": null,
   "id": "f97e8f1b-52c3-4b7b-b3de-4f041e6597c5",
   "metadata": {},
   "outputs": [],
   "source": []
  },
  {
   "cell_type": "code",
   "execution_count": 184,
   "id": "2d2d43a5-afec-42a7-9f63-0ebfd41b37bb",
   "metadata": {},
   "outputs": [
    {
     "data": {
      "text/plain": [
       "Array([[[[False, False, False, False],\n",
       "         [False, False, False,  True],\n",
       "         [False, False, False, False],\n",
       "         [ True, False, False, False]],\n",
       "\n",
       "        [[False, False, False, False],\n",
       "         [ True, False, False, False],\n",
       "         [False, False, False, False],\n",
       "         [False,  True, False, False]],\n",
       "\n",
       "        [[False, False, False, False],\n",
       "         [False,  True, False, False],\n",
       "         [False, False, False, False],\n",
       "         [False, False,  True, False]],\n",
       "\n",
       "        [[False, False, False, False],\n",
       "         [False, False,  True, False],\n",
       "         [False, False, False, False],\n",
       "         [False, False, False,  True]]]], dtype=bool)"
      ]
     },
     "execution_count": 184,
     "metadata": {},
     "output_type": "execute_result"
    }
   ],
   "source": [
    "_dispatch_mask"
   ]
  },
  {
   "cell_type": "code",
   "execution_count": 187,
   "id": "6254a23c-027e-4618-9912-b06e705d2627",
   "metadata": {},
   "outputs": [
    {
     "data": {
      "text/plain": [
       "Array([[[[0, 0, 0, 0],\n",
       "         [0, 0, 0, 0.490234],\n",
       "         [0, 0, 0, 0],\n",
       "         [0.507812, 0, 0, 0]],\n",
       "\n",
       "        [[0, 0, 0, 0],\n",
       "         [0.503906, 0, 0, 0],\n",
       "         [0, 0, 0, 0],\n",
       "         [0, 0.494141, 0, 0]],\n",
       "\n",
       "        [[0, 0, 0, 0],\n",
       "         [0, 0.550781, 0, 0],\n",
       "         [0, 0, 0, 0],\n",
       "         [0, 0, 0.449219, 0]],\n",
       "\n",
       "        [[0, 0, 0, 0],\n",
       "         [0, 0, 0.59375, 0],\n",
       "         [0, 0, 0, 0],\n",
       "         [0, 0, 0, 0.40625]]]], dtype=bfloat16)"
      ]
     },
     "execution_count": 187,
     "metadata": {},
     "output_type": "execute_result"
    }
   ],
   "source": [
    "_combine_array"
   ]
  },
  {
   "cell_type": "code",
   "execution_count": 178,
   "id": "24f0889b-a1c6-4053-8099-065162947726",
   "metadata": {},
   "outputs": [
    {
     "data": {
      "text/plain": [
       "Array([[[-1.,  3., -1.,  0.],\n",
       "        [-1.,  0., -1.,  1.],\n",
       "        [-1.,  1., -1.,  2.],\n",
       "        [-1.,  2., -1.,  3.]]], dtype=float32)"
      ]
     },
     "execution_count": 178,
     "metadata": {},
     "output_type": "execute_result"
    }
   ],
   "source": [
    "_token_priority"
   ]
  },
  {
   "cell_type": "code",
   "execution_count": 185,
   "id": "57057bef-82cc-45a8-9b81-8643525bb152",
   "metadata": {},
   "outputs": [
    {
     "data": {
      "text/plain": [
       "Array([[[0.        , 0.49084252, 0.        , 0.50915754],\n",
       "        [0.        , 0.50579154, 0.        , 0.4942085 ],\n",
       "        [0.        , 0.5517242 , 0.        , 0.4482759 ],\n",
       "        [0.        , 0.5944171 , 0.        , 0.40558293]]], dtype=float32)"
      ]
     },
     "execution_count": 185,
     "metadata": {},
     "output_type": "execute_result"
    }
   ],
   "source": [
    "_router_probs"
   ]
  },
  {
   "cell_type": "code",
   "execution_count": 158,
   "id": "b7dd64ff-dec1-4b68-99c9-743623e8af0a",
   "metadata": {},
   "outputs": [
    {
     "data": {
      "text/plain": [
       "16.0"
      ]
     },
     "execution_count": 158,
     "metadata": {},
     "output_type": "execute_result"
    }
   ],
   "source": []
  },
  {
   "cell_type": "code",
   "execution_count": null,
   "id": "374eb7e3-7a90-4f08-a3d0-e10f2135070a",
   "metadata": {},
   "outputs": [],
   "source": []
  },
  {
   "cell_type": "code",
   "execution_count": 164,
   "id": "8a8c8ab7-4760-4e96-9a90-62a3e2604cc4",
   "metadata": {
    "scrolled": true
   },
   "outputs": [
    {
     "data": {
      "text/plain": [
       "(1, 16, 4, 16)"
      ]
     },
     "execution_count": 164,
     "metadata": {},
     "output_type": "execute_result"
    }
   ],
   "source": [
    "_dispatch_mask.shape"
   ]
  },
  {
   "cell_type": "code",
   "execution_count": 118,
   "id": "80e848ea-4e0c-4181-9dfc-fdcf081ef6aa",
   "metadata": {},
   "outputs": [
    {
     "data": {
      "text/plain": [
       "Array([[False,  True],\n",
       "       [False, False],\n",
       "       [False, False]], dtype=bool)"
      ]
     },
     "execution_count": 118,
     "metadata": {},
     "output_type": "execute_result"
    }
   ],
   "source": [
    "a = jnp.array([1, 3 ,4])\n",
    "b = jax.nn.one_hot(a, 2, dtype=jnp.bool_)\n",
    "b"
   ]
  },
  {
   "cell_type": "code",
   "execution_count": 117,
   "id": "bd7cfc3a-2673-429f-8cbf-ef5fe8511a90",
   "metadata": {},
   "outputs": [
    {
     "data": {
      "text/plain": [
       "(3, 5)"
      ]
     },
     "execution_count": 117,
     "metadata": {},
     "output_type": "execute_result"
    }
   ],
   "source": [
    "b.shape"
   ]
  },
  {
   "cell_type": "code",
   "execution_count": 108,
   "id": "4efb87c7-d605-41a6-a05e-f82ae22c9b30",
   "metadata": {},
   "outputs": [
    {
     "data": {
      "text/plain": [
       "(1, 4, 4)"
      ]
     },
     "execution_count": 108,
     "metadata": {},
     "output_type": "execute_result"
    }
   ],
   "source": [
    "_token_priority.shape"
   ]
  },
  {
   "cell_type": "code",
   "execution_count": 113,
   "id": "68cd0498-4e66-4216-934e-510b2efdfa33",
   "metadata": {},
   "outputs": [
    {
     "data": {
      "text/plain": [
       "Array([[[-1.,  3., -1.,  0.],\n",
       "        [-1.,  0., -1.,  1.],\n",
       "        [-1.,  1., -1.,  2.],\n",
       "        [-1.,  2., -1.,  3.]]], dtype=float32)"
      ]
     },
     "execution_count": 113,
     "metadata": {},
     "output_type": "execute_result"
    }
   ],
   "source": [
    "_token_priority"
   ]
  },
  {
   "cell_type": "code",
   "execution_count": 94,
   "id": "55ed3664-e582-4817-a829-cdc6bd8338c3",
   "metadata": {},
   "outputs": [
    {
     "data": {
      "text/plain": [
       "Array([[[[-1., -1., -1.,  0.],\n",
       "         [-1.,  3., -1., -1.]],\n",
       "\n",
       "        [[-1.,  0., -1., -1.],\n",
       "         [-1., -1., -1.,  1.]],\n",
       "\n",
       "        [[-1.,  1., -1., -1.],\n",
       "         [-1., -1., -1.,  2.]],\n",
       "\n",
       "        [[-1.,  2., -1., -1.],\n",
       "         [-1., -1., -1.,  3.]]]], dtype=float32, weak_type=True)"
      ]
     },
     "execution_count": 94,
     "metadata": {},
     "output_type": "execute_result"
    }
   ],
   "source": [
    "token_priority"
   ]
  },
  {
   "cell_type": "code",
   "execution_count": 92,
   "id": "4553bbe9-8b50-4ffd-ad09-8b0edd2e1dcd",
   "metadata": {},
   "outputs": [
    {
     "data": {
      "text/plain": [
       "Array([[[[-1., -1., -1.,  0.],\n",
       "         [-1.,  0., -1., -1.],\n",
       "         [-1.,  1., -1., -1.],\n",
       "         [-1.,  2., -1., -1.]],\n",
       "\n",
       "        [[-1.,  3., -1., -1.],\n",
       "         [-1., -1., -1.,  1.],\n",
       "         [-1., -1., -1.,  2.],\n",
       "         [-1., -1., -1.,  3.]]]], dtype=float32, weak_type=True)"
      ]
     },
     "execution_count": 92,
     "metadata": {},
     "output_type": "execute_result"
    }
   ],
   "source": [
    "token_priority"
   ]
  },
  {
   "cell_type": "code",
   "execution_count": 90,
   "id": "0581a0a6-391d-4abb-980e-8b3b8cc29036",
   "metadata": {},
   "outputs": [
    {
     "data": {
      "text/plain": [
       "Array([[[-1., -1., -1.,  0.],\n",
       "        [-1.,  0., -1., -1.],\n",
       "        [-1.,  1., -1., -1.],\n",
       "        [-1.,  2., -1., -1.],\n",
       "        [-1.,  3., -1., -1.],\n",
       "        [-1., -1., -1.,  1.],\n",
       "        [-1., -1., -1.,  2.],\n",
       "        [-1., -1., -1.,  3.]]], dtype=float32, weak_type=True)"
      ]
     },
     "execution_count": 90,
     "metadata": {},
     "output_type": "execute_result"
    }
   ],
   "source": [
    "token_priority"
   ]
  },
  {
   "cell_type": "code",
   "execution_count": 87,
   "id": "32193844-9880-4e8e-ae46-dfbc53f99935",
   "metadata": {},
   "outputs": [
    {
     "data": {
      "text/plain": [
       "Array([[[0, 0, 0, 1],\n",
       "        [0, 1, 0, 0],\n",
       "        [0, 1, 0, 0],\n",
       "        [0, 1, 0, 0],\n",
       "        [0, 1, 0, 0],\n",
       "        [0, 0, 0, 1],\n",
       "        [0, 0, 0, 1],\n",
       "        [0, 0, 0, 1]]], dtype=int32)"
      ]
     },
     "execution_count": 87,
     "metadata": {},
     "output_type": "execute_result"
    }
   ],
   "source": [
    "expert_mask"
   ]
  },
  {
   "cell_type": "code",
   "execution_count": 88,
   "id": "aa6773f9-b2db-4941-8efb-c075dae8bfd0",
   "metadata": {},
   "outputs": [
    {
     "data": {
      "text/plain": [
       "(1, 8, 4)"
      ]
     },
     "execution_count": 88,
     "metadata": {},
     "output_type": "execute_result"
    }
   ],
   "source": [
    "expert_mask.shape"
   ]
  },
  {
   "cell_type": "code",
   "execution_count": 85,
   "id": "ee8b6627-d7dd-4739-ab38-e31f4f34147f",
   "metadata": {},
   "outputs": [
    {
     "data": {
      "text/plain": [
       "Array([[3, 1, 1, 1, 1, 3, 3, 3]], dtype=int32)"
      ]
     },
     "execution_count": 85,
     "metadata": {},
     "output_type": "execute_result"
    }
   ],
   "source": [
    "expert_index"
   ]
  },
  {
   "cell_type": "code",
   "execution_count": 121,
   "id": "05c869e8-9b5b-4b42-a72d-70ef3efdf300",
   "metadata": {},
   "outputs": [
    {
     "data": {
      "text/plain": [
       "Array([[[[0],\n",
       "         [0],\n",
       "         [0],\n",
       "         [0.507812]],\n",
       "\n",
       "        [[0],\n",
       "         [0.503906],\n",
       "         [0],\n",
       "         [0]],\n",
       "\n",
       "        [[0],\n",
       "         [0],\n",
       "         [0],\n",
       "         [0]],\n",
       "\n",
       "        [[0],\n",
       "         [0],\n",
       "         [0],\n",
       "         [0]]]], dtype=bfloat16)"
      ]
     },
     "execution_count": 121,
     "metadata": {},
     "output_type": "execute_result"
    }
   ],
   "source": [
    "_combine_array"
   ]
  },
  {
   "cell_type": "code",
   "execution_count": 48,
   "id": "88c54aa1-d439-4bfe-b705-7792bb73418b",
   "metadata": {},
   "outputs": [
    {
     "name": "stdout",
     "output_type": "stream",
     "text": [
      "(1, 4, 2, 4)\n",
      "(1, 4, 4)\n"
     ]
    }
   ],
   "source": []
  },
  {
   "cell_type": "code",
   "execution_count": 71,
   "id": "cd1bf880-7e2d-4912-9c62-4194d983eff0",
   "metadata": {},
   "outputs": [
    {
     "data": {
      "text/plain": [
       "Array([[[-1.,  3., -1.,  0.],\n",
       "        [-1.,  0., -1.,  1.],\n",
       "        [-1.,  1., -1.,  2.],\n",
       "        [-1.,  2., -1.,  3.]]], dtype=float32)"
      ]
     },
     "execution_count": 71,
     "metadata": {},
     "output_type": "execute_result"
    }
   ],
   "source": [
    "token_priority"
   ]
  },
  {
   "cell_type": "code",
   "execution_count": 70,
   "id": "05ac76a8-df08-45c5-b5b6-44562643dc2b",
   "metadata": {},
   "outputs": [
    {
     "data": {
      "text/plain": [
       "Array([[[0.        , 0.49084252, 0.        , 0.50915754],\n",
       "        [0.        , 0.50579154, 0.        , 0.4942085 ],\n",
       "        [0.        , 0.5517242 , 0.        , 0.4482759 ],\n",
       "        [0.        , 0.5944171 , 0.        , 0.40558293]]], dtype=float32)"
      ]
     },
     "execution_count": 70,
     "metadata": {},
     "output_type": "execute_result"
    }
   ],
   "source": [
    "router_probs"
   ]
  },
  {
   "cell_type": "code",
   "execution_count": 69,
   "id": "b3ab8766-14f8-45bc-93ee-53e851c35620",
   "metadata": {},
   "outputs": [
    {
     "data": {
      "text/plain": [
       "Array([[[0],\n",
       "        [0],\n",
       "        [0],\n",
       "        [1]],\n",
       "\n",
       "       [[0],\n",
       "        [1],\n",
       "        [0],\n",
       "        [0]],\n",
       "\n",
       "       [[0],\n",
       "        [0],\n",
       "        [0],\n",
       "        [0]],\n",
       "\n",
       "       [[0],\n",
       "        [0],\n",
       "        [0],\n",
       "        [0]]], dtype=int8)"
      ]
     },
     "execution_count": 69,
     "metadata": {},
     "output_type": "execute_result"
    }
   ],
   "source": [
    "_dispatch_mask.astype('b')[0]"
   ]
  },
  {
   "cell_type": "code",
   "execution_count": 50,
   "id": "dc267a51-1094-433e-abf5-a3cb19395474",
   "metadata": {
    "scrolled": true
   },
   "outputs": [
    {
     "data": {
      "text/plain": [
       "Array([[[0.17951965, 0.32333374],\n",
       "        [0.02140617, 0.04084396],\n",
       "        [0.        , 0.        ],\n",
       "        [0.        , 0.        ]]], dtype=float32)"
      ]
     },
     "execution_count": 50,
     "metadata": {},
     "output_type": "execute_result"
    }
   ],
   "source": [
    "combined_outputs"
   ]
  },
  {
   "cell_type": "code",
   "execution_count": null,
   "id": "acdc4d40-1c57-4d24-941b-e1f0826a72f0",
   "metadata": {},
   "outputs": [],
   "source": [
    "_expert_inputs"
   ]
  },
  {
   "cell_type": "code",
   "execution_count": 57,
   "id": "fd22d04d-ff6a-4710-b889-0cba71743a3a",
   "metadata": {},
   "outputs": [
    {
     "data": {
      "text/plain": [
       "Array([[[0, 0]],\n",
       "\n",
       "       [[0.0296631, 0.0654297]],\n",
       "\n",
       "       [[0, 0]],\n",
       "\n",
       "       [[0.00136566, 0.734375]]], dtype=bfloat16)"
      ]
     },
     "execution_count": 57,
     "metadata": {},
     "output_type": "execute_result"
    }
   ],
   "source": [
    "_expert_inputs[0]"
   ]
  },
  {
   "cell_type": "code",
   "execution_count": 51,
   "id": "bdea93ae-8396-46f3-a07d-6cc970b3b3a6",
   "metadata": {},
   "outputs": [],
   "source": [
    "r = jnp.einsum('gcd,dm->gcm', token_inputs, _call_experts.squeeze(0))"
   ]
  },
  {
   "cell_type": "code",
   "execution_count": 52,
   "id": "e75583f3-02e7-406d-93ca-fb41d5b06516",
   "metadata": {
    "scrolled": true
   },
   "outputs": [
    {
     "data": {
      "text/plain": [
       "Array([[[0.35335103, 0.6379664 ],\n",
       "        [0.04244471, 0.08118868],\n",
       "        [0.4475174 , 0.86351776],\n",
       "        [0.5697632 , 1.1248779 ]]], dtype=float32)"
      ]
     },
     "execution_count": 52,
     "metadata": {},
     "output_type": "execute_result"
    }
   ],
   "source": [
    "r"
   ]
  },
  {
   "cell_type": "code",
   "execution_count": 53,
   "id": "90770697-045e-4eac-bf93-152fb5f60285",
   "metadata": {},
   "outputs": [
    {
     "data": {
      "text/plain": [
       "(1, 4, 2)"
      ]
     },
     "execution_count": 53,
     "metadata": {},
     "output_type": "execute_result"
    }
   ],
   "source": [
    "r.shape"
   ]
  },
  {
   "cell_type": "code",
   "execution_count": 14,
   "id": "eaf31859-022a-4616-9849-b34e579791c5",
   "metadata": {},
   "outputs": [
    {
     "data": {
      "text/plain": [
       "Array([[0.01139784, 0.9637133 , 0.17142892, ..., 0.519408  , 0.40298927,\n",
       "        0.50899124],\n",
       "       [0.33128166, 0.11407924, 0.45493877, ..., 0.19184983, 0.6729857 ,\n",
       "        0.6878849 ],\n",
       "       [0.5041802 , 0.5340363 , 0.9612719 , ..., 0.7156762 , 0.5960239 ,\n",
       "        0.79638684],\n",
       "       ...,\n",
       "       [0.00309777, 0.5363393 , 0.3114102 , ..., 0.04296672, 0.2589947 ,\n",
       "        0.66974473],\n",
       "       [0.9366919 , 0.9258721 , 0.4500034 , ..., 0.8394394 , 0.5943967 ,\n",
       "        0.94559646],\n",
       "       [0.93420994, 0.38898253, 0.5649245 , ..., 0.81798625, 0.601208  ,\n",
       "        0.9051266 ]], dtype=float32)"
      ]
     },
     "execution_count": 14,
     "metadata": {},
     "output_type": "execute_result"
    }
   ],
   "source": [
    "_call_experts.squeeze(0)"
   ]
  },
  {
   "cell_type": "code",
   "execution_count": 25,
   "id": "18d313d7-d866-4919-952e-14e7f501b72e",
   "metadata": {
    "scrolled": true
   },
   "outputs": [
    {
     "data": {
      "text/plain": [
       "Array([[[[0.671875, 0.212891, 0.365234, ..., 0.953125, 0.863281,\n",
       "          0.0581055],\n",
       "         [0.90625, 0.257812, 0.402344, ..., 0.703125, 0.198242,\n",
       "          0.0559082],\n",
       "         [0.769531, 0.237305, 0.789062, ..., 0.392578, 0.476562,\n",
       "          0.217773]],\n",
       "\n",
       "        [[0.480469, 0.166016, 0.154297, ..., 0.120117, 0.427734,\n",
       "          0.621094],\n",
       "         [0.828125, 0.451172, 0.964844, ..., 0.414062, 0.804688,\n",
       "          0.527344],\n",
       "         [0.010437, 0.296875, 0.773438, ..., 0.46875, 0.703125,\n",
       "          0.832031]],\n",
       "\n",
       "        [[0.480469, 0.166016, 0.154297, ..., 0.120117, 0.427734,\n",
       "          0.621094],\n",
       "         [0.929688, 0.503906, 0.300781, ..., 0.644531, 0.617188,\n",
       "          0.102539],\n",
       "         [0.828125, 0.451172, 0.964844, ..., 0.414062, 0.804688,\n",
       "          0.527344]],\n",
       "\n",
       "        [[0.199219, 0.636719, 0.761719, ..., 0.625, 0.202148, 0.408203],\n",
       "         [0.259766, 0.390625, 0.0598145, ..., 0.00405884, 0.24707,\n",
       "          0.625],\n",
       "         [0.710938, 0.0791016, 0.683594, ..., 0.855469, 0.792969,\n",
       "          0.660156]]],\n",
       "\n",
       "\n",
       "       [[[0.275391, 0.0654297, 0.550781, ..., 0.251953, 0.065918,\n",
       "          0.558594],\n",
       "         [0.486328, 0.455078, 0.330078, ..., 0.988281, 0.380859,\n",
       "          0.155273],\n",
       "         [0.15625, 0.345703, 0.558594, ..., 0.207031, 0.253906,\n",
       "          0.337891]],\n",
       "\n",
       "        [[0.296875, 0.699219, 0.863281, ..., 0.785156, 0.134766,\n",
       "          0.542969],\n",
       "         [0.757812, 0.394531, 0.558594, ..., 0.396484, 0.503906,\n",
       "          0.0385742],\n",
       "         [0.357422, 0.574219, 0.0566406, ..., 0.820312, 0.155273,\n",
       "          0.134766]],\n",
       "\n",
       "        [[0.644531, 0.816406, 0.832031, ..., 0.667969, 0.597656,\n",
       "          0.914062],\n",
       "         [0.486328, 0.455078, 0.330078, ..., 0.988281, 0.380859,\n",
       "          0.155273],\n",
       "         [0.0751953, 0.226562, 0.5, ..., 0.0088501, 0.351562, 0.660156]],\n",
       "\n",
       "        [[0.357422, 0.574219, 0.0566406, ..., 0.820312, 0.155273,\n",
       "          0.134766],\n",
       "         [0.746094, 0.855469, 0.621094, ..., 0.173828, 0.492188,\n",
       "          0.78125],\n",
       "         [0.275391, 0.0654297, 0.550781, ..., 0.251953, 0.065918,\n",
       "          0.558594]]],\n",
       "\n",
       "\n",
       "       [[[0.652344, 0.0795898, 0.714844, ..., 0.4375, 0.400391,\n",
       "          0.855469],\n",
       "         [0.902344, 0.863281, 0.726562, ..., 0.746094, 0.640625,\n",
       "          0.753906],\n",
       "         [0.589844, 0.804688, 0.703125, ..., 0.026123, 0.578125,\n",
       "          0.832031]],\n",
       "\n",
       "        [[0.984375, 0.455078, 0.0273438, ..., 0.105957, 0.945312,\n",
       "          0.186523],\n",
       "         [0.871094, 0.628906, 0.310547, ..., 0.498047, 0.224609,\n",
       "          0.601562],\n",
       "         [0.703125, 0.0966797, 0.0126953, ..., 0.957031, 0.824219,\n",
       "          0.400391]],\n",
       "\n",
       "        [[0.237305, 0.785156, 0.216797, ..., 0.427734, 0.172852,\n",
       "          0.0649414],\n",
       "         [0.589844, 0.804688, 0.703125, ..., 0.026123, 0.578125,\n",
       "          0.832031],\n",
       "         [0.871094, 0.628906, 0.310547, ..., 0.498047, 0.224609,\n",
       "          0.601562]],\n",
       "\n",
       "        [[0.0566406, 0.585938, 0.174805, ..., 0.792969, 0.165039,\n",
       "          0.980469],\n",
       "         [0.902344, 0.863281, 0.726562, ..., 0.746094, 0.640625,\n",
       "          0.753906],\n",
       "         [0.941406, 0.738281, 0.5, ..., 0.519531, 0.660156, 0.326172]]]],      dtype=bfloat16)"
      ]
     },
     "execution_count": 25,
     "metadata": {},
     "output_type": "execute_result"
    }
   ],
   "source": [
    "_expert_inputs"
   ]
  },
  {
   "cell_type": "code",
   "execution_count": 13,
   "id": "5e9c612d-ccf0-411d-9e02-a54b03969be5",
   "metadata": {
    "scrolled": true
   },
   "outputs": [
    {
     "data": {
      "text/plain": [
       "Array([[[0.67017794, 0.21266353, 0.3643179 , ..., 0.95354056,\n",
       "         0.86200583, 0.05801117],\n",
       "        [0.90641916, 0.2581885 , 0.40254116, ..., 0.70177364,\n",
       "         0.1986829 , 0.05588424],\n",
       "        [0.76905775, 0.23724616, 0.7909447 , ..., 0.39260423,\n",
       "         0.47644675, 0.21751463],\n",
       "        ...,\n",
       "        [0.01041508, 0.29660642, 0.7722591 , ..., 0.46841896,\n",
       "         0.7017602 , 0.8304368 ],\n",
       "        [0.2589029 , 0.3903619 , 0.05971932, ..., 0.00406814,\n",
       "         0.24726093, 0.6248237 ],\n",
       "        [0.7118826 , 0.07900417, 0.68311775, ..., 0.8543353 ,\n",
       "         0.7920536 , 0.66045046]],\n",
       "\n",
       "       [[0.35675788, 0.5723851 , 0.05660164, ..., 0.8213806 ,\n",
       "         0.15491045, 0.13453877],\n",
       "        [0.27500308, 0.0654732 , 0.5509267 , ..., 0.25192523,\n",
       "         0.06606376, 0.5580566 ],\n",
       "        [0.2960205 , 0.6988629 , 0.86140907, ..., 0.783445  ,\n",
       "         0.1348989 , 0.54412246],\n",
       "        ...,\n",
       "        [0.07495975, 0.2266761 , 0.50004804, ..., 0.00884986,\n",
       "         0.35092378, 0.6600951 ],\n",
       "        [0.54132867, 0.93253267, 0.9152788 , ..., 0.75043714,\n",
       "         0.7680249 , 0.70084906],\n",
       "        [0.42767978, 0.6519408 , 0.7281649 , ..., 0.9177221 ,\n",
       "         0.38510895, 0.96477365]],\n",
       "\n",
       "       [[0.6506388 , 0.07939339, 0.71295893, ..., 0.43679476,\n",
       "         0.40072262, 0.8557979 ],\n",
       "        [0.9009987 , 0.865106  , 0.72619927, ..., 0.7480234 ,\n",
       "         0.6416147 , 0.7550349 ],\n",
       "        [0.98391306, 0.45445228, 0.02735043, ..., 0.10601032,\n",
       "         0.9439583 , 0.18663943],\n",
       "        ...,\n",
       "        [0.23757029, 0.7852378 , 0.21719646, ..., 0.4281168 ,\n",
       "         0.17247963, 0.06476331],\n",
       "        [0.78669167, 0.44219005, 0.59844553, ..., 0.27434897,\n",
       "         0.2701075 , 0.62187374],\n",
       "        [0.46992767, 0.13001668, 0.8557794 , ..., 0.79307425,\n",
       "         0.42081487, 0.08016968]]], dtype=float32)"
      ]
     },
     "execution_count": 13,
     "metadata": {},
     "output_type": "execute_result"
    }
   ],
   "source": [
    "token_inputs"
   ]
  },
  {
   "cell_type": "code",
   "execution_count": 12,
   "id": "8e9fc88b-0b0b-4465-abef-cad1298a814c",
   "metadata": {},
   "outputs": [
    {
     "data": {
      "text/plain": [
       "Array([[[30.616161, 30.490242, 32.09529 , ..., 31.686031, 29.929438,\n",
       "         35.661602],\n",
       "        [30.968822, 29.62692 , 32.57369 , ..., 29.640743, 28.168673,\n",
       "         32.26693 ],\n",
       "        [32.03814 , 31.602169, 31.933764, ..., 31.83572 , 29.167837,\n",
       "         35.62698 ],\n",
       "        ...,\n",
       "        [26.817465, 26.582998, 28.993309, ..., 28.692616, 26.634424,\n",
       "         31.390823],\n",
       "        [29.20658 , 28.143347, 29.073826, ..., 28.767738, 26.71118 ,\n",
       "         32.139866],\n",
       "        [35.162743, 32.240837, 35.101612, ..., 33.50216 , 31.391727,\n",
       "         37.2987  ]],\n",
       "\n",
       "       [[30.344604, 27.864147, 31.761086, ..., 30.24715 , 29.06248 ,\n",
       "         32.68872 ],\n",
       "        [31.731127, 28.723663, 33.13195 , ..., 30.487007, 28.915962,\n",
       "         31.881374],\n",
       "        [33.392685, 30.383389, 32.017506, ..., 31.762093, 31.153368,\n",
       "         35.39888 ],\n",
       "        ...,\n",
       "        [28.900892, 28.08874 , 29.180866, ..., 29.960375, 27.57775 ,\n",
       "         34.689297],\n",
       "        [30.796967, 30.372814, 33.367855, ..., 31.086185, 27.887077,\n",
       "         34.627056],\n",
       "        [32.690567, 29.830967, 33.372406, ..., 32.123623, 29.359447,\n",
       "         34.25779 ]],\n",
       "\n",
       "       [[29.938486, 30.656942, 31.135368, ..., 31.504345, 30.71315 ,\n",
       "         35.703857],\n",
       "        [31.409603, 29.677975, 30.966824, ..., 32.324123, 29.076597,\n",
       "         36.67295 ],\n",
       "        [32.38472 , 31.981474, 31.995209, ..., 31.201359, 30.564686,\n",
       "         37.52289 ],\n",
       "        ...,\n",
       "        [28.654226, 27.25943 , 30.609924, ..., 27.645828, 27.55073 ,\n",
       "         33.44512 ],\n",
       "        [32.91237 , 30.77962 , 33.895905, ..., 33.183884, 31.393423,\n",
       "         35.843353],\n",
       "        [28.831219, 27.846092, 31.633577, ..., 28.426537, 27.957388,\n",
       "         33.33692 ]]], dtype=float32)"
      ]
     },
     "execution_count": 12,
     "metadata": {},
     "output_type": "execute_result"
    }
   ],
   "source": [
    "r"
   ]
  },
  {
   "cell_type": "code",
   "execution_count": 9,
   "id": "d55b6074-fe2b-498c-b960-633283495c59",
   "metadata": {},
   "outputs": [
    {
     "data": {
      "text/plain": [
       "(3, 12, 128)"
      ]
     },
     "execution_count": 9,
     "metadata": {},
     "output_type": "execute_result"
    }
   ],
   "source": [
    "token_inputs.shape"
   ]
  },
  {
   "cell_type": "code",
   "execution_count": null,
   "id": "1c8af7dd-8bdc-4e9b-8d00-451fb4a17fc7",
   "metadata": {},
   "outputs": [],
   "source": []
  },
  {
   "cell_type": "code",
   "execution_count": 7,
   "id": "19db14dd-d730-4e9c-b1ee-3e4660af3c9d",
   "metadata": {},
   "outputs": [
    {
     "data": {
      "text/plain": [
       "(3, 12, 128)"
      ]
     },
     "execution_count": 7,
     "metadata": {},
     "output_type": "execute_result"
    }
   ],
   "source": [
    "combined_outputs.shape"
   ]
  }
 ],
 "metadata": {
  "kernelspec": {
   "display_name": "Python 3 (ipykernel)",
   "language": "python",
   "name": "python3"
  },
  "language_info": {
   "codemirror_mode": {
    "name": "ipython",
    "version": 3
   },
   "file_extension": ".py",
   "mimetype": "text/x-python",
   "name": "python",
   "nbconvert_exporter": "python",
   "pygments_lexer": "ipython3",
   "version": "3.10.15"
  }
 },
 "nbformat": 4,
 "nbformat_minor": 5
}
