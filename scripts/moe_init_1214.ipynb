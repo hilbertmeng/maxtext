{
 "cells": [
  {
   "cell_type": "code",
   "execution_count": null,
   "metadata": {
    "vscode": {
     "languageId": "plaintext"
    }
   },
   "outputs": [],
   "source": []
  },
  {
   "cell_type": "code",
   "execution_count": null,
   "metadata": {
    "vscode": {
     "languageId": "plaintext"
    }
   },
   "outputs": [],
   "source": [
    "## 说明\n",
    "- 基于440000预训练的dense模型进行初始化，0个共享专家，11个非共享专家，top2, moe dim=4096, 初始化采用自设计方案\n",
    "- 其次采用的是megablox的实现方案"
   ]
  },
  {
   "cell_type": "code",
   "execution_count": null,
   "metadata": {
    "vscode": {
     "languageId": "plaintext"
    }
   },
   "outputs": [],
   "source": [
    "# !pip install tensorflow==2.16.1\n",
    "# pip install numpy==1.26.4\n",
    "# 运行2遍\n",
    "import json\n",
    "import os\n",
    "import sys\n",
    "import asyncio\n",
    "import argparse\n",
    "from collections import defaultdict\n",
    "import time\n",
    "import subprocess\n",
    "\n",
    "os.environ[\"JAX_PLATFORMS\"] = \"cpu\"\n",
    "from etils import epath\n",
    "import json\n",
    "import base64\n",
    "\n",
    "import numpy as np\n",
    "import jax.numpy as jnp\n",
    "import jax\n",
    "import orbax\n",
    "import orbax.checkpoint as ocp\n",
    "from etils import epath\n",
    "from jax.sharding import PartitionSpec as PS\n",
    "from flax.traverse_util import flatten_dict, unflatten_dict\n",
    "\n",
    "\n",
    "METADATA_FILE = '_METADATA'\n",
    "_CHECKPOINT_FILE = 'checkpoint'\n",
    "\n",
    "\n",
    "read_dir = 'gs://llm_base_models_europe-west4/v5p_256/7B/PileDCSlimLlama7B32Kx4x256x1v5p_0713/checkpoints/440000/state'\n",
    "save_dir = 'gs://llm_base_models_europe-west4/v5p_256/7B/xm_E8x7B_OnlyUnshareNoMgate_megablox_1215/checkpoints/'\n",
    "\n",
    "read_dir = epath.Path(read_dir) \n",
    "save_dir = epath.Path(save_dir)\n",
    "\n",
    "metadata_path = read_dir / METADATA_FILE\n",
    "back_metadata_path = read_dir / f'{METADATA_FILE}.back'\n",
    "try:\n",
    "    metadata_path.rename(back_metadata_path)\n",
    "except:\n",
    "    pass\n",
    "metadata_path.unlink(missing_ok=True) # delete\n",
    "structure_path = read_dir / _CHECKPOINT_FILE\n",
    "msgpack = ocp.aggregate_handlers.MsgpackHandler(0)\n",
    "structure = msgpack.deserialize(structure_path)\n",
    "# backup original checkpoint fil\n",
    "back_structure_path = read_dir / 'checkpoint_back'\n",
    "back_structure = structure.copy()\n",
    "if not back_structure_path.exists():\n",
    "    asyncio.run(msgpack.serialize(back_structure_path, item=back_structure))\n",
    "print(f'Old structure file keys: {structure.keys()}')\n",
    "remove_keys = ['opt_state', 'step'] # select the weight name you don't want to load, all weight name: opt_state, step, params\n",
    "_ = [structure.pop(key) for key in remove_keys if key in structure]\n",
    "print(f'New structure file keys: {structure.keys()}')\n",
    "asyncio.run(msgpack.serialize(structure_path, item=structure))  # rewrite struct file\n",
    "\n",
    "# load model based struct, note: axes must same as training\n",
    "mesh_axes = ['data', 'stage', 'fsdp', 'fsdp_transpose', 'sequence', 'tensor', 'autoregressive']\n",
    "devices = np.asarray(jax.devices()).reshape([1] * len(mesh_axes))\n",
    "mesh = jax.sharding.Mesh(devices, mesh_axes)\n",
    "sharding = jax.sharding.NamedSharding(mesh, PS()) # Sharding is None because we use cpu to load weights\n",
    "weight_dtype = jnp.bfloat16 # set restore weights dtype\n",
    "restore_args = {}\n",
    "for k, v in flatten_dict(structure).items():\n",
    "    restore_args[k] =  ocp.ArrayRestoreArgs(restore_type=jax.Array, dtype=weight_dtype, sharding=sharding)\n",
    "restore_args = unflatten_dict(restore_args)\n",
    "ckptr = ocp.Checkpointer(ocp.PyTreeCheckpointHandler())\n",
    "w = ckptr.restore(read_dir, args=ocp.args.PyTreeRestore(restore_args=restore_args))\n",
    "structure_path = read_dir / _CHECKPOINT_FILE\n",
    "# rewrite struct file, otherwise occur error when continue training\n",
    "asyncio.run(msgpack.serialize(structure_path, item=back_structure))\n",
    "while 'params' in w:\n",
    "    w = w['params']\n",
    "xm3p5_w = {'.'.join(k): np.array(v) for k, v in flatten_dict(w).items()}\n",
    "\n",
    "try:\n",
    "    back_metadata_path.rename(metadata_path)\n",
    "except:\n",
    "    pass"
   ]
  },
  {
   "cell_type": "code",
   "execution_count": null,
   "metadata": {
    "vscode": {
     "languageId": "plaintext"
    }
   },
   "outputs": [],
   "source": [
    "## 基于dense模型保存和moe相同名字的参数\n",
    "def convert_to_jnp(params, remove_keys=[]):\n",
    "    convert_params = {}\n",
    "    for k, v in params.items():\n",
    "        r = 0\n",
    "        for remove_key in remove_keys:\n",
    "            if remove_key in k: \n",
    "                r = 1\n",
    "                break\n",
    "        if r: continue\n",
    "        k = tuple(k.split('.'))\n",
    "        convert_params[k] = v\n",
    "        # convert_params[k] = jnp.array(v).astype(jnp.bfloat16)\n",
    "    for k, v in convert_params.items():\n",
    "        print(k, v.shape, v.dtype)\n",
    "    return convert_params\n",
    "\n",
    "\n",
    "def save_params(step, save_dir, params):\n",
    "    item = {\n",
    "            'state': orbax.checkpoint.AsyncCheckpointer(orbax.checkpoint.PyTreeCheckpointHandler(use_ocdbt=False)),\n",
    "                    }\n",
    "    unflatten_params = unflatten_dict(params)\n",
    "    for k, v in params.items():\n",
    "        print(k, v.shape, v.dtype)\n",
    "    mngr = orbax.checkpoint.CheckpointManager(save_dir, item)\n",
    "    if 'params' not in unflatten_params: unflatten_params = {'params': unflatten_params}\n",
    "    mngr.save(step, items={'state': {'params': unflatten_params}})\n",
    "\n",
    "params_save_step = 0\n",
    "convert_params = convert_to_jnp(xm3p5_w, remove_keys=['mlp_'])\n",
    "save_params(params_save_step, save_dir, convert_params)"
   ]
  },
  {
   "cell_type": "code",
   "execution_count": null,
   "metadata": {
    "vscode": {
     "languageId": "plaintext"
    }
   },
   "outputs": [],
   "source": [
    "## moe部分的参数保存，保存后在bucket后台人工进行转移\n",
    "start_time = time.time()\n",
    "unshared_experts = 8\n",
    "expert_dim = 5632\n",
    "\n",
    "scale = 1\n",
    "mlp_dim = 5632 // scale\n",
    "model_dim = 4096 // scale\n",
    "copy_dim = mlp_dim // unshared_experts\n",
    "\n",
    "# fp16_dtype = np.dtype('float16')\n",
    "# 4个子层\n",
    "moe_params = {}\n",
    "example_params = {}\n",
    "np.random.seed(42)\n",
    "for k, v in xm3p5_w.items():\n",
    "    v = jnp.array(v).astype(jnp.bfloat16)\n",
    "    ev = jnp.array([100]).astype(jnp.bfloat16)\n",
    "    if 'decoder.layers.mlp_' in k:\n",
    "        mlp_inx = k.find('mlp_')\n",
    "        l = k[mlp_inx+4: mlp_inx+5]\n",
    "        unshared_mlp = k.replace('decoder.layers.mlp_', 'decoder.layers.unshared_mlp_')\n",
    "        unshared_mlp = unshared_mlp.replace('.kernel', '')\n",
    "        if 'mgate' not in unshared_mlp:\n",
    "            v = v.transpose(1, 0, 2)\n",
    "            # unshared: unshared_experts * 12 * model_dim * mlp_dim,  mlp: model_dim * 12 * mlp_dim\n",
    "            unshared_mlp_w = []\n",
    "            if '.wo.' in k:\n",
    "                copy_w = v.reshape(12, unshared_experts, 1, copy_dim, model_dim).repeat(expert_dim // copy_dim, 2).reshape(\n",
    "                    12, unshared_experts, -1, model_dim).transpose(1, 0, 2, 3)\n",
    "            else:\n",
    "                copy_w = v.reshape(12, model_dim, unshared_experts, 1, copy_dim).repeat(expert_dim // copy_dim, 3).reshape(\n",
    "                    12, model_dim, unshared_experts, -1).transpose(2, 0, 1, 3)\n",
    "            # 加噪声\n",
    "            mask = jnp.array(np.random.randint(-2, 3, copy_w.shape) * 0.1, dtype=jnp.bfloat16)\n",
    "            mask = mask.astype(jnp.bfloat16)\n",
    "            init_w = copy_w  + copy_w * mask\n",
    "            moe_params[unshared_mlp] = init_w\n",
    "            example_params[unshared_mlp] = ev\n",
    "            print(f'unshared_mlp: {unshared_mlp} init_w: {init_w.shape} {init_w.dtype} take: {time.time()-start_time:.3f}s')\n",
    "            \n",
    "        else:\n",
    "            router_gate = unshared_mlp.replace('mgate', 'router_gate.kernel')\n",
    "            init_w = v.reshape(v.shape[0], v.shape[1], unshared_experts, -1).mean(-1)\n",
    "            moe_params[router_gate] = init_w\n",
    "            print(f'router_gate: {router_gate} init_w: {init_w.shape}  {init_w.dtype}, take: {time.time()-start_time:.3f}s')\n",
    "            example_params[router_gate] = ev\n",
    "    else:\n",
    "        example_params[k] = ev\n",
    "        \n",
    "            \n",
    "moe_params = {tuple(k.split('.')): v for k, v in moe_params.items()}\n",
    "example_params = {tuple(k.split('.')): v for k,v in example_params.items()}\n",
    "\n",
    "for k, v in moe_params.items():\n",
    "    print(k, v.shape, v[0].sum(), v[1].sum())\n",
    "\n",
    "moe_save_step = params_save_step + 1\n",
    "example_step = params_save_step + 2\n",
    "\n",
    "save_params(moe_save_step, save_dir, moe_params)\n",
    "save_params(example_step, save_dir, example_params)"
   ]
  },
  {
   "cell_type": "code",
   "execution_count": null,
   "metadata": {
    "vscode": {
     "languageId": "plaintext"
    }
   },
   "outputs": [],
   "source": [
    "import subprocess\n",
    "\n",
    "source_dir = str(save_dir).rstrip('/')\n",
    "target_dir = str(save_dir).rstrip('/')\n",
    "\n",
    "command = f'gsutil cp {source_dir}/{example_step}/state/_METADATA {target_dir}/{params_save_step}/state/ '\n",
    "r = subprocess.run(command, stdout=subprocess.PIPE, shell=True)\n",
    "\n",
    "command = f'gsutil cp {source_dir}/{example_step}/state/checkpoint {target_dir}/{params_save_step}/state/ '\n",
    "r = subprocess.run(command, stdout=subprocess.PIPE, shell=True)\n",
    "\n",
    "command = f'gsutil -m cp -r {source_dir}/{moe_save_step}/state/params.params* {target_dir}/{params_save_step}/state/ '\n",
    "r = subprocess.run(command, stdout=subprocess.PIPE, shell=True)"
   ]
  },
  {
   "cell_type": "code",
   "execution_count": null,
   "metadata": {
    "vscode": {
     "languageId": "plaintext"
    }
   },
   "outputs": [],
   "source": []
  }
 ],
 "metadata": {
  "language_info": {
   "name": "python"
  }
 },
 "nbformat": 4,
 "nbformat_minor": 2
}
